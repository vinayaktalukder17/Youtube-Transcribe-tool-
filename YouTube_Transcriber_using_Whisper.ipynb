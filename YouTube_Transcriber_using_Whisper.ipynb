{
  "nbformat": 4,
  "nbformat_minor": 0,
  "metadata": {
    "colab": {
      "provenance": [],
      "authorship_tag": "ABX9TyNTBvj0Wpuo+3uKfXqLWINb",
      "include_colab_link": true
    },
    "kernelspec": {
      "name": "python3",
      "display_name": "Python 3"
    },
    "language_info": {
      "name": "python"
    }
  },
  "cells": [
    {
      "cell_type": "markdown",
      "metadata": {
        "id": "view-in-github",
        "colab_type": "text"
      },
      "source": [
        "<a href=\"https://colab.research.google.com/github/vinayaktalukder17/Chatbot-using-GPT3/blob/main/YouTube_Transcriber_using_Whisper.ipynb\" target=\"_parent\"><img src=\"https://colab.research.google.com/assets/colab-badge.svg\" alt=\"Open In Colab\"/></a>"
      ]
    },
    {
      "cell_type": "markdown",
      "source": [
        "# **Install**"
      ],
      "metadata": {
        "id": "deqUzQ_XveZ3"
      }
    },
    {
      "cell_type": "code",
      "execution_count": null,
      "metadata": {
        "colab": {
          "base_uri": "https://localhost:8080/"
        },
        "id": "E_mIXBDxvcxr",
        "outputId": "ecc4f357-f4b4-4e16-bafb-aa709a082ea6"
      },
      "outputs": [
        {
          "output_type": "stream",
          "name": "stdout",
          "text": [
            "\u001b[?25l     \u001b[90m━━━━━━━━━━━━━━━━━━━━━━━━━━━━━━━━━━━━━━━━\u001b[0m \u001b[32m0.0/54.7 KB\u001b[0m \u001b[31m?\u001b[0m eta \u001b[36m-:--:--\u001b[0m\r\u001b[2K     \u001b[90m━━━━━━━━━━━━━━━━━━━━━━━━━━━━━━━━━━━━━━━━\u001b[0m \u001b[32m54.7/54.7 KB\u001b[0m \u001b[31m3.2 MB/s\u001b[0m eta \u001b[36m0:00:00\u001b[0m\n",
            "\u001b[?25h  Installing build dependencies ... \u001b[?25l\u001b[?25hdone\n",
            "  Getting requirements to build wheel ... \u001b[?25l\u001b[?25hdone\n",
            "  Preparing metadata (pyproject.toml) ... \u001b[?25l\u001b[?25hdone\n",
            "  Building wheel for openai (pyproject.toml) ... \u001b[?25l\u001b[?25hdone\n",
            "\u001b[2K     \u001b[90m━━━━━━━━━━━━━━━━━━━━━━━━━━━━━━━━━━━━━━━━\u001b[0m \u001b[32m57.0/57.0 KB\u001b[0m \u001b[31m2.1 MB/s\u001b[0m eta \u001b[36m0:00:00\u001b[0m\n",
            "\u001b[?25h  Preparing metadata (setup.py) ... \u001b[?25l\u001b[?25hdone\n",
            "\u001b[2K     \u001b[90m━━━━━━━━━━━━━━━━━━━━━━━━━━━━━━━━━━━━━━━━\u001b[0m \u001b[32m5.8/5.8 MB\u001b[0m \u001b[31m41.9 MB/s\u001b[0m eta \u001b[36m0:00:00\u001b[0m\n",
            "\u001b[2K     \u001b[90m━━━━━━━━━━━━━━━━━━━━━━━━━━━━━━━━━━━━━━\u001b[0m \u001b[32m182.4/182.4 KB\u001b[0m \u001b[31m19.4 MB/s\u001b[0m eta \u001b[36m0:00:00\u001b[0m\n",
            "\u001b[2K     \u001b[90m━━━━━━━━━━━━━━━━━━━━━━━━━━━━━━━━━━━━━━━━\u001b[0m \u001b[32m7.6/7.6 MB\u001b[0m \u001b[31m79.6 MB/s\u001b[0m eta \u001b[36m0:00:00\u001b[0m\n",
            "\u001b[?25h  Building wheel for whisper (setup.py) ... \u001b[?25l\u001b[?25hdone\n"
          ]
        }
      ],
      "source": [
        "!pip install -q openai\n",
        "!pip install -q pytube\n",
        "!pip install -q ffmpeg-python\n",
        "!pip install -q git+https://github.com/openai/whisper.git"
      ]
    },
    {
      "cell_type": "markdown",
      "source": [
        "# **Imports**"
      ],
      "metadata": {
        "id": "zF-mjsxMv_hK"
      }
    },
    {
      "cell_type": "code",
      "source": [
        "import ffmpeg\n",
        "import requests\n",
        "import os\n",
        "import openai\n",
        "import pytube\n",
        "import whisper\n",
        "from pytube import YouTube"
      ],
      "metadata": {
        "id": "RFfR-NvzvrMa"
      },
      "execution_count": null,
      "outputs": []
    },
    {
      "cell_type": "markdown",
      "source": [
        "# **Download Video**"
      ],
      "metadata": {
        "id": "QRfZ4KiYwOaF"
      }
    },
    {
      "cell_type": "code",
      "source": [
        "def download_video_mp4(youtube_url):\n",
        "  # Create a YouTube object\n",
        "  yt = YouTube(youtube_url)\n",
        "  \n",
        "  # Get the video with the highest resolution and file size\n",
        "  video = yt.streams.filter(progressive=True, \n",
        "                            file_extension='mp4').order_by('resolution').desc().first()\n",
        "  # Download the video to the current working directory\n",
        "  video.download()\n",
        "  \n",
        "  print('Video downloaded!')\n",
        "  return 1"
      ],
      "metadata": {
        "id": "vQwi1BgAwM60"
      },
      "execution_count": null,
      "outputs": []
    },
    {
      "cell_type": "code",
      "source": [
        "download_video_mp4(\"https://www.youtube.com/watch?v=f9Tztq3LU-w\")"
      ],
      "metadata": {
        "colab": {
          "base_uri": "https://localhost:8080/"
        },
        "id": "bDYriiuywa6n",
        "outputId": "ad4fe095-1b9d-4e2a-8ec3-ae0ad81c19fe"
      },
      "execution_count": null,
      "outputs": [
        {
          "output_type": "stream",
          "name": "stdout",
          "text": [
            "Video downloaded!\n"
          ]
        },
        {
          "output_type": "execute_result",
          "data": {
            "text/plain": [
              "1"
            ]
          },
          "metadata": {},
          "execution_count": 4
        }
      ]
    },
    {
      "cell_type": "code",
      "source": [
        "os.listdir()"
      ],
      "metadata": {
        "colab": {
          "base_uri": "https://localhost:8080/"
        },
        "id": "tcC2lxHMwrkH",
        "outputId": "ffa6cfda-f42d-4b78-c083-54c575ac0294"
      },
      "execution_count": null,
      "outputs": [
        {
          "output_type": "execute_result",
          "data": {
            "text/plain": [
              "['.config', 'Bill Gates Leadership.mp4', 'sample_data']"
            ]
          },
          "metadata": {},
          "execution_count": 5
        }
      ]
    },
    {
      "cell_type": "markdown",
      "source": [
        "# **Convert Video to Audio**"
      ],
      "metadata": {
        "id": "OJ0-FA_rxKnR"
      }
    },
    {
      "cell_type": "code",
      "source": [
        "def create_audio_file(video_filename):\n",
        "  # Use ffmpeg to extract the audio track from the video and create an .mp4 audio file\n",
        "  audio_filename = video_filename.replace(\".mp4\", \".mp3\")\n",
        "  stream = ffmpeg.input(video_filename)\n",
        "  stream = ffmpeg.output(stream, audio_filename)\n",
        "  ffmpeg.run(stream)\n",
        "  return audio_filename"
      ],
      "metadata": {
        "id": "Lhn-fDV9w30a"
      },
      "execution_count": null,
      "outputs": []
    },
    {
      "cell_type": "code",
      "source": [
        "create_audio_file(os.listdir()[1])"
      ],
      "metadata": {
        "colab": {
          "base_uri": "https://localhost:8080/",
          "height": 35
        },
        "id": "bkvYpKfvxXK1",
        "outputId": "2ea0fb52-b6c9-42cc-e7ec-52a6b63f93ea"
      },
      "execution_count": null,
      "outputs": [
        {
          "output_type": "execute_result",
          "data": {
            "text/plain": [
              "'Bill Gates Leadership.mp3'"
            ],
            "application/vnd.google.colaboratory.intrinsic+json": {
              "type": "string"
            }
          },
          "metadata": {},
          "execution_count": 7
        }
      ]
    },
    {
      "cell_type": "code",
      "source": [
        "os.listdir()"
      ],
      "metadata": {
        "colab": {
          "base_uri": "https://localhost:8080/"
        },
        "id": "WkZ5DK8txgiW",
        "outputId": "dcd696cc-14b8-45ee-bff6-2beda7defcb0"
      },
      "execution_count": null,
      "outputs": [
        {
          "output_type": "execute_result",
          "data": {
            "text/plain": [
              "['.config',\n",
              " 'Bill Gates Leadership.mp4',\n",
              " 'Bill Gates Leadership.mp3',\n",
              " 'sample_data']"
            ]
          },
          "metadata": {},
          "execution_count": 8
        }
      ]
    },
    {
      "cell_type": "markdown",
      "source": [
        "# **Transcribe**"
      ],
      "metadata": {
        "id": "NPnqQQ_0xrpi"
      }
    },
    {
      "cell_type": "code",
      "source": [
        "model = whisper.load_model(\"base\")"
      ],
      "metadata": {
        "colab": {
          "base_uri": "https://localhost:8080/"
        },
        "id": "TyD9UCQdxpls",
        "outputId": "d1219e96-5757-4840-8f08-e9092ef3204c"
      },
      "execution_count": null,
      "outputs": [
        {
          "output_type": "stream",
          "name": "stderr",
          "text": [
            "100%|███████████████████████████████████████| 139M/139M [00:02<00:00, 60.6MiB/s]\n"
          ]
        }
      ]
    },
    {
      "cell_type": "code",
      "source": [
        "def transcribe(audio_path):\n",
        "    # pred_model = whisper.load_model(\"base\")\n",
        "    result = model.transcribe(audio_path)\n",
        "    return result[\"text\"]"
      ],
      "metadata": {
        "id": "CWi34s3rx7HC"
      },
      "execution_count": null,
      "outputs": []
    },
    {
      "cell_type": "code",
      "source": [
        "yt_text = transcribe(os.listdir()[1])"
      ],
      "metadata": {
        "colab": {
          "base_uri": "https://localhost:8080/"
        },
        "id": "B_Jw-IzwyPcR",
        "outputId": "ca823f5f-ffd0-4ea6-f9f3-9cf22e72b12e"
      },
      "execution_count": null,
      "outputs": [
        {
          "output_type": "stream",
          "name": "stderr",
          "text": [
            "/usr/local/lib/python3.8/dist-packages/whisper/transcribe.py:78: UserWarning: FP16 is not supported on CPU; using FP32 instead\n",
            "  warnings.warn(\"FP16 is not supported on CPU; using FP32 instead\")\n"
          ]
        }
      ]
    },
    {
      "cell_type": "code",
      "source": [
        "from pprint import pprint\n",
        "pprint(yt_text)"
      ],
      "metadata": {
        "colab": {
          "base_uri": "https://localhost:8080/"
        },
        "id": "Yxo7MrtsyXAp",
        "outputId": "bcb34034-9843-494f-a7b3-e17d267bc333"
      },
      "execution_count": null,
      "outputs": [
        {
          "output_type": "stream",
          "name": "stdout",
          "text": [
            "(' The major milestone for us was when we were walking through Harvard Square '\n",
            " 'one time and saw this popular electronics magazine. And it was kind of in a '\n",
            " 'way, you know, good news, bad news. Here was someone making a computer '\n",
            " 'around this chip and exactly the way that Paul had talked to me and you '\n",
            " 'know, we thought about what kind of software could be done for it. And it '\n",
            " 'was happening without us. Microsoft was a business from the beginning, not '\n",
            " 'that we had any clear view that it would ever be a large business. But I had '\n",
            " 'to pay my, these friends hired at a minimum. I had to make enough money to '\n",
            " 'write their paycheck. And if I got enough confidence, we could sell a lot '\n",
            " \"more than I'd be able to hire and even more people to get ahead, to be the \"\n",
            " 'leader in doing lots of products that could share code with each other. We '\n",
            " \"always knew that we didn't want to have a single product that was a dominant \"\n",
            " 'product. We wanted to hire in more software people and have a full product '\n",
            " 'line. In a sense that one of the earliest things we decided to do was to '\n",
            " 'make available on the microprocessor everything that had been available on '\n",
            " \"the mini computer. And that's why we did the languages, a cobalt, assembler, \"\n",
            " 'all the normal tools that you would expect to be able to do native software '\n",
            " 'development. One of the products that really got us kicked off in doing new '\n",
            " 'things was we made a card that plugged into the Apple II with the little '\n",
            " 'Z80, a microprocessor that succeeded the Z80 on it. The Z80 was a big '\n",
            " 'success and let us grow our retail group and even go out and license some '\n",
            " 'products that were the key to doing it well and that it could be sold in '\n",
            " \"fairly high volumes which in those days weren't nearly what they are today. \"\n",
            " 'We decided that might be a good product for Microsoft. How do you wrap to '\n",
            " 'that? I hired a fan of mine from college, Steve Ballmer, who was very good '\n",
            " 'at hiring people. He could see that we had more projects that we wanted to '\n",
            " 'do than we could. He was able to double the size of the company and people '\n",
            " 'every year for the next five years. It really started to change in character '\n",
            " 'where I had written a high percentage of the code myself until we got to '\n",
            " 'Seattle and reviewed everything that people were doing to the point where we '\n",
            " 'were setting up a lot of autonomous teams and having to do a lot more in '\n",
            " 'terms of what was our methodology and how did we interview people just to '\n",
            " 'stay up with all the projects we were going after. When Steve came in, I was '\n",
            " 'spending more time with him because the business side was important, and he '\n",
            " 'was really good at organizing and what were we going to do about '\n",
            " 'international. It was great that it was smart and personal enough that we '\n",
            " \"didn't have a technical background the programmers accepted in. That was \"\n",
            " \"very rare. We really didn't believe non-programmer should manage \"\n",
            " \"programmers. We didn't do that until I think it was 83 because it was a fast \"\n",
            " \"business and all that, we worked very long hours and we'd go out to movies \"\n",
            " 'together. Everybody knew each other awfully well. Up until 1981, Paul and I '\n",
            " \"had owned the whole company except we'd shared a little bit of it with \"\n",
            " \"Steve. There wasn't much pressure to do anything differently than that, but \"\n",
            " 'then around 81 we decided to share some of the ownership in the form of '\n",
            " 'options and actually brought some of the really strong contributors into '\n",
            " 'that program. A great number of these new machines will be connected to '\n",
            " 'networks that will allow for group productivity where you exchange '\n",
            " 'information as well as preparing it on your own machine. This new generation '\n",
            " \"will enable a whole new set of applications. In fact, there'll be hundreds \"\n",
            " \"and hundreds of great applications that take PCs much further than they've \"\n",
            " 'gone before and allow us to move towards this exciting vision of a machine '\n",
            " 'on every desktop.')\n"
          ]
        }
      ]
    },
    {
      "cell_type": "code",
      "source": [],
      "metadata": {
        "id": "7ncS3NvHznir"
      },
      "execution_count": null,
      "outputs": []
    }
  ]
}